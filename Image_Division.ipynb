{
  "nbformat": 4,
  "nbformat_minor": 0,
  "metadata": {
    "colab": {
      "name": "Image_Division.ipynb",
      "provenance": [],
      "authorship_tag": "ABX9TyPOqe+HY5Crd+6oQ5Cw7VM/",
      "include_colab_link": true
    },
    "kernelspec": {
      "name": "python3",
      "display_name": "Python 3"
    },
    "language_info": {
      "name": "python"
    }
  },
  "cells": [
    {
      "cell_type": "markdown",
      "metadata": {
        "id": "view-in-github",
        "colab_type": "text"
      },
      "source": [
        "<a href=\"https://colab.research.google.com/github/ComradeBlyatlov/Machine-Learning-Semantic-Segmentation/blob/main/Image_Division.ipynb\" target=\"_parent\"><img src=\"https://colab.research.google.com/assets/colab-badge.svg\" alt=\"Open In Colab\"/></a>"
      ]
    },
    {
      "cell_type": "code",
      "execution_count": null,
      "metadata": {
        "colab": {
          "base_uri": "https://localhost:8080/"
        },
        "id": "tOJIu24LxFoT",
        "outputId": "f36cac14-456f-48a5-e7cf-7686426f7175"
      },
      "outputs": [
        {
          "output_type": "stream",
          "name": "stdout",
          "text": [
            "Mounted at /content/gdrive\n"
          ]
        }
      ],
      "source": [
        "from google.colab import drive\n",
        "drive.mount('/content/gdrive')"
      ]
    },
    {
      "cell_type": "code",
      "source": [
        "pip install image_slicer"
      ],
      "metadata": {
        "colab": {
          "base_uri": "https://localhost:8080/"
        },
        "id": "JR7mUSXkKTne",
        "outputId": "a46cbd3f-39b6-4900-c6ce-f6c26d7ae7f6"
      },
      "execution_count": null,
      "outputs": [
        {
          "output_type": "stream",
          "name": "stdout",
          "text": [
            "Looking in indexes: https://pypi.org/simple, https://us-python.pkg.dev/colab-wheels/public/simple/\n",
            "Requirement already satisfied: image_slicer in /usr/local/lib/python3.7/dist-packages (2.1.1)\n",
            "Requirement already satisfied: Pillow==7.2.0 in /usr/local/lib/python3.7/dist-packages (from image_slicer) (7.2.0)\n"
          ]
        }
      ]
    },
    {
      "cell_type": "code",
      "source": [
        "from image_slicer import slice\n",
        "import image_slicer\n",
        "import glob\n",
        "from tqdm import tqdm\n",
        "from PIL import Image\n",
        "import math\n",
        "import os"
      ],
      "metadata": {
        "id": "AlGqYTP8xgbj"
      },
      "execution_count": null,
      "outputs": []
    },
    {
      "cell_type": "code",
      "source": [
        "\n",
        "tests = glob.glob('/content/gdrive/MyDrive/Planes/2500Images/tests/*.jpg')\n",
        "pngs = glob.glob('/content/gdrive/MyDrive/Planes/2500Images/pngs/*.png')\n",
        "newjpgs = '/content/gdrive/MyDrive/Planes/600Images/tests/'\n",
        "newpngs = '/content/gdrive/MyDrive/Planes/600Images/pngs/'\n",
        "jpgpngs = glob.glob('/content/gdrive/MyDrive/Planes/600Images/tests/*')\n"
      ],
      "metadata": {
        "id": "LMml9lORVMqh"
      },
      "execution_count": null,
      "outputs": []
    },
    {
      "cell_type": "code",
      "source": [
        "for z in jpgpngs:\n",
        "  os.remove(z)"
      ],
      "metadata": {
        "id": "ex544TXRJnQF"
      },
      "execution_count": null,
      "outputs": []
    },
    {
      "cell_type": "code",
      "source": [
        "for t, u in enumerate(sorted(tests)):\n",
        "  print(u)\n",
        "  tilesjpg = image_slicer.slice(u,16, save=False)\n",
        "  image_slicer.save_tiles(tilesjpg, directory=newjpgs)\n",
        "  gnewjpgs = glob.glob('/content/gdrive/MyDrive/Planes/600Images/tests/*.png')\n",
        "  for v,w in enumerate(gnewjpgs):\n",
        "    print(v)\n",
        "    tojpg = Image.open(w)\n",
        "    tojpg = tojpg.convert('RGB')\n",
        "    tojpg.save(newjpgs + '{}.jpg'.format(f\"{t:03}\" + '_' + f\"{v:02}\"))\n",
        "    os.remove(w)"
      ],
      "metadata": {
        "id": "8RjXUBGhI6fZ",
        "colab": {
          "base_uri": "https://localhost:8080/"
        },
        "outputId": "cb067a1a-2d10-4002-9590-11ddddf09ef1"
      },
      "execution_count": null,
      "outputs": [
        {
          "output_type": "stream",
          "name": "stdout",
          "text": [
            "/content/gdrive/MyDrive/Planes/2500Images/tests/027.jpg\n",
            "0\n",
            "1\n",
            "2\n",
            "3\n",
            "4\n",
            "5\n",
            "6\n",
            "7\n",
            "8\n",
            "9\n",
            "10\n",
            "11\n",
            "12\n",
            "13\n",
            "14\n",
            "15\n",
            "/content/gdrive/MyDrive/Planes/2500Images/tests/028.jpg\n",
            "0\n",
            "1\n",
            "2\n",
            "3\n",
            "4\n",
            "5\n",
            "6\n",
            "7\n",
            "8\n",
            "9\n",
            "10\n",
            "11\n",
            "12\n",
            "13\n",
            "14\n",
            "15\n",
            "/content/gdrive/MyDrive/Planes/2500Images/tests/029.jpg\n",
            "0\n",
            "1\n",
            "2\n",
            "3\n",
            "4\n",
            "5\n",
            "6\n",
            "7\n",
            "8\n",
            "9\n",
            "10\n",
            "11\n",
            "12\n",
            "13\n",
            "14\n",
            "15\n",
            "/content/gdrive/MyDrive/Planes/2500Images/tests/030.jpg\n",
            "0\n",
            "1\n",
            "2\n",
            "3\n",
            "4\n",
            "5\n",
            "6\n",
            "7\n",
            "8\n",
            "9\n",
            "10\n",
            "11\n",
            "12\n",
            "13\n",
            "14\n",
            "15\n"
          ]
        }
      ]
    },
    {
      "cell_type": "code",
      "source": [
        "for c in (glob.glob('/content/gdrive/MyDrive/Planes/600Images/pngs/*.png')):\n",
        "  os.remove(c)"
      ],
      "metadata": {
        "id": "dxz5HJ2jhXYf"
      },
      "execution_count": null,
      "outputs": []
    },
    {
      "cell_type": "code",
      "source": [
        "for a,b in enumerate(sorted(pngs)):\n",
        "  tilespng = image_slicer.slice(b,16, save=False)\n",
        "  image_slicer.save_tiles(tilespng, prefix = 'a', directory=newpngs)\n",
        "  gnewpngs = glob.glob('/content/gdrive/MyDrive/Planes/600Images/pngs/*.png')\n",
        "  for c,d in enumerate(gnewpngs):\n",
        "    print(str(d))\n",
        "    if str(d[-11]) == 'a':\n",
        "      topng = Image.open(d)\n",
        "      topng.save(newpngs +'{}.png'.format(f\"{a:03}\" + '_' + f\"{(c%16):02}\"))\n",
        "      os.remove(d)"
      ],
      "metadata": {
        "id": "XlsCEPo6xRio"
      },
      "execution_count": null,
      "outputs": []
    },
    {
      "cell_type": "code",
      "source": [],
      "metadata": {
        "id": "5auOyRswwpa7"
      },
      "execution_count": null,
      "outputs": []
    },
    {
      "cell_type": "code",
      "source": [],
      "metadata": {
        "id": "OCyEXJEpKWFZ"
      },
      "execution_count": null,
      "outputs": []
    }
  ]
}